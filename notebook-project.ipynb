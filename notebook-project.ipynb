{
 "cells": [
  {
   "cell_type": "markdown",
   "id": "1489da88",
   "metadata": {},
   "source": [
    "# Programming for Data Analysis"
   ]
  },
  {
   "cell_type": "markdown",
   "id": "5d7a8973",
   "metadata": {},
   "source": [
    "## Breast Cancer Wisconsin (Diagnostic) Data Set"
   ]
  },
  {
   "cell_type": "markdown",
   "id": "a36ec8e2",
   "metadata": {},
   "source": [
    "### - What is the Breast Cancer Wisconsin dataset?"
   ]
  },
  {
   "cell_type": "markdown",
   "id": "0095926f",
   "metadata": {},
   "source": [
    "The Breast Cancer Wisconsin dataset is a dataset that contains records of characteristics of the cell nuclei from a digitized image of a fine needle aspiration (FNA) of a breast mass. A [Fine needle aspiration](https://www.webmd.com/a-to-z-guides/fine-needle-aspiration) is a type of biopsy procedure where a thin needle is inserted into an area of abnormal-appearing tissue or body fluid. This records are then used to determine if the tissue is classified as benign or malignant.\n",
    "\n",
    "Below we can find a example of a image for each one of the cases:\n"
   ]
  },
  {
   "cell_type": "markdown",
   "id": "003e6852",
   "metadata": {},
   "source": [
    "![Benign cancer image](https://inferentialthinking.com/_images/benign.png) ![Malignant cancer image](https://inferentialthinking.com/_images/malignant.png)"
   ]
  },
  {
   "cell_type": "markdown",
   "id": "48c13591",
   "metadata": {},
   "source": []
  },
  {
   "cell_type": "markdown",
   "id": "be8b608d",
   "metadata": {},
   "source": []
  },
  {
   "cell_type": "markdown",
   "id": "7d0b9cb7",
   "metadata": {},
   "source": [
    "**Data set Attributes information:**"
   ]
  },
  {
   "cell_type": "markdown",
   "id": "7d5ced7d",
   "metadata": {},
   "source": [
    "The dataset cointaisn a total of 569 samples and has 32 attributes which are divided into columns as shown below:"
   ]
  },
  {
   "cell_type": "markdown",
   "id": "9a85abe0",
   "metadata": {},
   "source": [
    "- ID number\n",
    "- Diagnosis (M = malignant, B = benign)\n",
    "- And the mean, standard error and worst case for each of the attributes below:\n",
    "<ol>\n",
    "  <li>radius (mean of distances from center to points on the perimeter)</li>\n",
    "  <li>texture (standard deviation of gray-scale values)</li>\n",
    "  <li>perimeter</li>\n",
    "  <li>area</li>\n",
    "  <li>smoothness (local variation in radius lengths)</li>  \n",
    "  <li>compactness (perimeter^2 / area - 1.0)</li>  \n",
    "  <li>concavity (severity of concave portions of the contour)</li>  \n",
    "  <li>concave points (number of concave portions of the contour)</li>  \n",
    "  <li>symmetry</li>  \n",
    "  <li>fractal dimension (\"coastline approximation\" - 1)</li>  \n",
    "    \n",
    "</ol>\n"
   ]
  },
  {
   "cell_type": "markdown",
   "id": "5ff6e34c",
   "metadata": {},
   "source": [
    "The first two columns are the Sample Id and diagnosis respectively. The diagnosis can be malignant (M) or benign (B) which are medical terms for a tumour. A benign are the ones not considered cancerous while the  malignant ones are considered cancerous."
   ]
  },
  {
   "cell_type": "markdown",
   "id": "b0437cfd",
   "metadata": {},
   "source": [
    "## Classifiers"
   ]
  },
  {
   "cell_type": "markdown",
   "id": "d9e84c46",
   "metadata": {},
   "source": [
    "In Machine Learning classifiers are algorithms that categorizes data into set or sets of classes.  Classifiers can be divided into supervised and unsupervised classifiers."
   ]
  },
  {
   "cell_type": "markdown",
   "id": "c04b35f3",
   "metadata": {},
   "source": [
    "- **Supervised Learning**\n",
    "\n",
    "Supervised learning classifiers are the most common approach to machine learning, these classifiers predict outcomes based on models that are manually tagged or sorted the data contains the correct inputs and outputs which helps the model to learn faster. \n",
    "There are two types supervised learning classifiers: Regression and Classification\n",
    "-\tRegression model predicts output based on the information given, for example, price of a car taking into the account the car model, year, colour, and other parameters. An example of regression classifiers is Logistic regression\n",
    "\n",
    "-\tClassification model on the other hand, groups the results inside a class, for example, it can sort out based on the information given,  a tissue from a biopsy is benign or malignant. \n",
    "\n"
   ]
  },
  {
   "cell_type": "markdown",
   "id": "7ab0aefe",
   "metadata": {},
   "source": [
    "- **Unsupervised Learning**\n",
    "\n",
    "For unsupervised classifiers the data that is loaded into the model is not sorted or labelled, the classifier learns from the data itself, taking into the account its characteristics. Unsupervised classifiers can be used for clustering and sorting the data into groups based on their similarities, finding fraudulent activities using anomaly detection. However, it can provide less precise information and results since the data was not labelled and the classifier must do it itself.\n",
    "There are two types of techniques used in unsupervised learning: Clustering and Association.\n",
    "-\tClustering deals with finding a pattern in an unsorted data, and grouping the data into this pattern, sorting it inside specific groups according with its characteristics. \n",
    "-\tAssociation deal with the relationship between objects in a dataset, it is used to find new patterns that objects share with each other.\n"
   ]
  },
  {
   "cell_type": "code",
   "execution_count": null,
   "id": "e900b20f",
   "metadata": {},
   "outputs": [],
   "source": []
  },
  {
   "cell_type": "markdown",
   "id": "ef1f4c28",
   "metadata": {},
   "source": []
  },
  {
   "cell_type": "code",
   "execution_count": null,
   "id": "d80dbca6",
   "metadata": {},
   "outputs": [],
   "source": []
  },
  {
   "cell_type": "raw",
   "id": "23f6f40f",
   "metadata": {},
   "source": []
  },
  {
   "cell_type": "markdown",
   "id": "4ec04ecb",
   "metadata": {},
   "source": []
  },
  {
   "cell_type": "markdown",
   "id": "ebd19989",
   "metadata": {},
   "source": [
    "Below we are going to take a look at some of most common supervised classifiers used for analysing and training on the Breast Cancer Wisconsin dataset"
   ]
  },
  {
   "cell_type": "markdown",
   "id": "03ca29b3",
   "metadata": {},
   "source": [
    " - ### Support Vector Machines (SVM)"
   ]
  },
  {
   "cell_type": "markdown",
   "id": "1d8f18e9",
   "metadata": {},
   "source": []
  },
  {
   "cell_type": "markdown",
   "id": "2e2539cc",
   "metadata": {},
   "source": []
  },
  {
   "cell_type": "markdown",
   "id": "3604e524",
   "metadata": {},
   "source": []
  },
  {
   "cell_type": "markdown",
   "id": "e9e425f8",
   "metadata": {},
   "source": [
    "- ### Decision Tree Classifier (J48)"
   ]
  },
  {
   "cell_type": "markdown",
   "id": "e2a470d7",
   "metadata": {},
   "source": []
  },
  {
   "cell_type": "markdown",
   "id": "222e989d",
   "metadata": {},
   "source": []
  },
  {
   "cell_type": "markdown",
   "id": "f64e6196",
   "metadata": {},
   "source": []
  },
  {
   "cell_type": "markdown",
   "id": "9fea8f35",
   "metadata": {},
   "source": [
    "- ### K-Nearest Neighbor (KNN)"
   ]
  },
  {
   "cell_type": "markdown",
   "id": "baefc5f8",
   "metadata": {},
   "source": []
  },
  {
   "cell_type": "markdown",
   "id": "a163024c",
   "metadata": {},
   "source": []
  }
 ],
 "metadata": {
  "kernelspec": {
   "display_name": "Python 3 (ipykernel)",
   "language": "python",
   "name": "python3"
  },
  "language_info": {
   "codemirror_mode": {
    "name": "ipython",
    "version": 3
   },
   "file_extension": ".py",
   "mimetype": "text/x-python",
   "name": "python",
   "nbconvert_exporter": "python",
   "pygments_lexer": "ipython3",
   "version": "3.9.13"
  }
 },
 "nbformat": 4,
 "nbformat_minor": 5
}
